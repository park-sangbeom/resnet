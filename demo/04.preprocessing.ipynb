{
 "cells": [
  {
   "cell_type": "code",
   "execution_count": 1,
   "metadata": {},
   "outputs": [
    {
     "name": "stdout",
     "output_type": "stream",
     "text": [
      "./data/depth1116/depth1_1.npy\n"
     ]
    },
    {
     "data": {
      "image/png": "[encoded data removed]",
      "text/plain": [
       "<Figure size 360x360 with 1 Axes>"
      ]
     },
     "metadata": {
      "needs_background": "light"
     },
     "output_type": "display_data"
    }
   ],
   "source": [
    "import numpy as np\n",
    "import matplotlib.pyplot as plt \n",
    "from scipy.spatial import distance\n",
    "# 2D에서 argmin\n",
    "def np_argmin(A:np):\n",
    "    return np.unravel_index(A.argmin(), A.shape)\n",
    "\n",
    "# plot tool\n",
    "def plot_hist(A, xlim_left=None, xlim_right=None, ylim_top=None, ylim_bottom=None):\n",
    "    plt.figure(figsize=(5,5))\n",
    "    plt.imshow(A[...,None], cmap='gray')\n",
    "    plt.show()\n",
    "    \n",
    "    # plt.hist(A.flatten(), bins=100)\n",
    "    # if xlim_left   != None: plt.xlim(left=xlim_left)\n",
    "    # if xlim_right  != None: plt.xlim(right=xlim_right)\n",
    "    # if ylim_top    != None: plt.ylim(top=ylim_top)\n",
    "    # if ylim_bottom != None: plt.ylim(bottom=ylim_bottom)\n",
    "    # plt.show()\n",
    "\n",
    "image_path = \"./data/depth1116/depth1_1.npy\"\n",
    "print(image_path)\n",
    "rawImage = np.load(image_path).astype(np.float32)\n",
    "\n",
    "def transform_scene_image(rawImage):\n",
    "    temp = distance.cdist(rawImage.T, rawImage.T, 'euclidean')\n",
    "    temp = np.sum(temp, axis=0)\n",
    "    free_table_idx = np_argmin(temp)\n",
    "\n",
    "    TABLE_DEPTH = np.tile(rawImage[:,free_table_idx], reps=(1,192))\n",
    "\n",
    "    minval = np.min(TABLE_DEPTH)\n",
    "    maxval = np.max(TABLE_DEPTH)\n",
    "    GROUNDED_TABLE_DEPTH = TABLE_DEPTH - minval\n",
    "    GroundedImage = rawImage - minval\n",
    "    No_occulsion_image = np.where(GroundedImage<-0.5, GROUNDED_TABLE_DEPTH, GroundedImage)\n",
    "    No_BackGround_image = No_occulsion_image - GROUNDED_TABLE_DEPTH\n",
    "    fliped_image = -np.where(No_BackGround_image>0, np.zeros_like(No_BackGround_image), No_BackGround_image)\n",
    "    temp = fliped_image\n",
    "\n",
    "    for i in range(10):\n",
    "        south_image = np.roll(temp, 1, axis = 0)\n",
    "        north_image = np.roll(temp, -1, axis = 0)\n",
    "        east_image  = np.roll(temp, 1, axis = 1)\n",
    "        west_image  = np.roll(temp, -1, axis = 1)\n",
    "\n",
    "        if i % 2 ==0:\n",
    "            temp = np.where((south_image+north_image+east_image+west_image)/4 < 0.01, np.zeros_like(temp), temp)\n",
    "        if i % 2 ==1:\n",
    "            temp = (south_image+north_image+east_image+west_image)/4\n",
    "\n",
    "    clean_image = temp / (maxval-minval)\n",
    "    return clean_image\n",
    "\n",
    "clean_image = transform_scene_image(rawImage)\n",
    "plot_hist(clean_image, xlim_left=0.01, ylim_top = 200)"
   ]
  },
  {
   "cell_type": "code",
   "execution_count": 5,
   "metadata": {},
   "outputs": [
    {
     "name": "stdout",
     "output_type": "stream",
     "text": [
      "Epoch: 1000 Agent: 1\n",
      "Epoch: 1000 Agent: 2\n",
      "Epoch: 1000 Agent: 3\n",
      "Epoch: 1000 Agent: 4\n",
      "Epoch: 1000 Agent: 5\n",
      "Epoch: 1000 Agent: 6\n",
      "Epoch: 1000 Agent: 7\n",
      "Epoch: 1000 Agent: 8\n",
      "Epoch: 1000 Agent: 9\n",
      "Epoch: 1000 Agent: 10\n",
      "Epoch: 1000 Agent: 11\n",
      "Epoch: 1000 Agent: 12\n",
      "Epoch: 1000 Agent: 13\n",
      "Epoch: 1000 Agent: 14\n",
      "Epoch: 1000 Agent: 15\n",
      "Epoch: 1000 Agent: 16\n",
      "Epoch: 1000 Agent: 17\n",
      "Epoch: 1000 Agent: 18\n",
      "Epoch: 1000 Agent: 19\n",
      "Epoch: 1000 Agent: 20\n",
      "Epoch: 1000 Agent: 21\n",
      "Epoch: 1000 Agent: 22\n",
      "Epoch: 1000 Agent: 23\n",
      "Epoch: 1000 Agent: 24\n",
      "Epoch: 1000 Agent: 25\n",
      "Epoch: 1000 Agent: 26\n",
      "Epoch: 1000 Agent: 27\n",
      "Epoch: 1000 Agent: 28\n",
      "Epoch: 1000 Agent: 29\n",
      "Epoch: 1000 Agent: 30\n",
      "Epoch: 1000 Agent: 31\n",
      "Epoch: 1000 Agent: 32\n",
      "Epoch: 1000 Agent: 33\n",
      "Epoch: 1000 Agent: 34\n",
      "Epoch: 1000 Agent: 35\n",
      "Epoch: 1000 Agent: 36\n",
      "Epoch: 1000 Agent: 37\n",
      "Epoch: 1000 Agent: 38\n",
      "Epoch: 1000 Agent: 39\n",
      "Epoch: 1000 Agent: 40\n",
      "Epoch: 1000 Agent: 41\n",
      "Epoch: 1000 Agent: 42\n",
      "Epoch: 1000 Agent: 43\n",
      "Epoch: 1000 Agent: 44\n",
      "Epoch: 1000 Agent: 45\n",
      "Epoch: 1000 Agent: 46\n",
      "Epoch: 1000 Agent: 47\n",
      "Epoch: 1000 Agent: 48\n",
      "Epoch: 1000 Agent: 49\n",
      "Epoch: 1000 Agent: 50\n",
      "Epoch: 1000 Agent: 51\n",
      "Epoch: 1000 Agent: 52\n",
      "Epoch: 1000 Agent: 53\n",
      "Epoch: 1000 Agent: 54\n",
      "Epoch: 1000 Agent: 55\n",
      "Epoch: 1000 Agent: 56\n",
      "Epoch: 1000 Agent: 57\n",
      "Epoch: 1000 Agent: 58\n",
      "Epoch: 1000 Agent: 59\n",
      "Epoch: 1000 Agent: 60\n",
      "Epoch: 1000 Agent: 61\n",
      "Epoch: 1000 Agent: 62\n",
      "Epoch: 1000 Agent: 63\n",
      "Epoch: 1000 Agent: 64\n",
      "Epoch: 1000 Agent: 65\n",
      "Epoch: 1000 Agent: 66\n",
      "Epoch: 1000 Agent: 67\n",
      "Epoch: 1000 Agent: 68\n",
      "Epoch: 1000 Agent: 69\n",
      "Epoch: 1000 Agent: 70\n",
      "Epoch: 1000 Agent: 71\n",
      "Epoch: 1000 Agent: 72\n",
      "Epoch: 1000 Agent: 73\n",
      "Epoch: 1000 Agent: 74\n",
      "Epoch: 1000 Agent: 75\n",
      "Epoch: 1000 Agent: 76\n",
      "Epoch: 1000 Agent: 77\n",
      "Epoch: 1000 Agent: 78\n",
      "Epoch: 1000 Agent: 79\n",
      "Epoch: 1000 Agent: 80\n",
      "Epoch: 1000 Agent: 81\n",
      "Epoch: 1000 Agent: 82\n",
      "Epoch: 1000 Agent: 83\n",
      "Epoch: 1000 Agent: 84\n",
      "Epoch: 1000 Agent: 85\n",
      "Epoch: 1000 Agent: 86\n",
      "Epoch: 1000 Agent: 87\n",
      "Epoch: 1000 Agent: 88\n",
      "Epoch: 1000 Agent: 89\n",
      "Epoch: 1000 Agent: 90\n",
      "Epoch: 1000 Agent: 91\n",
      "Epoch: 1000 Agent: 92\n",
      "Epoch: 1000 Agent: 93\n",
      "Epoch: 1000 Agent: 94\n",
      "Epoch: 1000 Agent: 95\n",
      "Epoch: 1000 Agent: 96\n",
      "Epoch: 1000 Agent: 97\n",
      "Epoch: 1000 Agent: 98\n",
      "Epoch: 1000 Agent: 99\n",
      "Epoch: 1000 Agent: 100\n",
      "Epoch: 1000 Agent: 101\n",
      "Epoch: 1000 Agent: 102\n",
      "Epoch: 1000 Agent: 103\n",
      "Epoch: 1000 Agent: 104\n",
      "Epoch: 1000 Agent: 105\n",
      "Epoch: 1000 Agent: 106\n",
      "Epoch: 1000 Agent: 107\n",
      "Epoch: 1000 Agent: 108\n",
      "Epoch: 1000 Agent: 109\n",
      "Epoch: 1000 Agent: 110\n",
      "Epoch: 1000 Agent: 111\n",
      "Epoch: 1000 Agent: 112\n",
      "Epoch: 1000 Agent: 113\n",
      "Epoch: 1000 Agent: 114\n",
      "Epoch: 1000 Agent: 115\n",
      "Epoch: 1000 Agent: 116\n",
      "Epoch: 1000 Agent: 117\n",
      "Epoch: 1000 Agent: 118\n",
      "Epoch: 1000 Agent: 119\n",
      "Epoch: 1000 Agent: 120\n",
      "Epoch: 1000 Agent: 121\n",
      "Epoch: 1000 Agent: 122\n",
      "Epoch: 1000 Agent: 123\n",
      "Epoch: 1000 Agent: 124\n",
      "Epoch: 1000 Agent: 125\n",
      "Epoch: 1000 Agent: 126\n",
      "Epoch: 1000 Agent: 127\n",
      "Epoch: 1000 Agent: 128\n",
      "Epoch: 1000 Agent: 129\n",
      "Epoch: 1000 Agent: 130\n",
      "Epoch: 1000 Agent: 131\n",
      "Epoch: 1000 Agent: 132\n",
      "Epoch: 1000 Agent: 133\n",
      "Epoch: 1000 Agent: 134\n",
      "Epoch: 1000 Agent: 135\n",
      "Epoch: 1000 Agent: 136\n",
      "Epoch: 1000 Agent: 137\n",
      "Epoch: 1000 Agent: 138\n",
      "Epoch: 1000 Agent: 139\n",
      "Epoch: 1000 Agent: 140\n",
      "Epoch: 1000 Agent: 141\n",
      "Epoch: 1000 Agent: 142\n",
      "Epoch: 1000 Agent: 143\n",
      "Epoch: 1000 Agent: 144\n",
      "Epoch: 1000 Agent: 145\n",
      "Epoch: 1000 Agent: 146\n",
      "Epoch: 1000 Agent: 147\n",
      "Epoch: 1000 Agent: 148\n",
      "Epoch: 1000 Agent: 149\n",
      "Epoch: 1000 Agent: 150\n",
      "Epoch: 1000 Agent: 151\n",
      "Epoch: 1000 Agent: 152\n",
      "Epoch: 1000 Agent: 153\n",
      "Epoch: 1000 Agent: 154\n",
      "Epoch: 1000 Agent: 155\n",
      "Epoch: 1000 Agent: 156\n",
      "Epoch: 1000 Agent: 157\n",
      "Epoch: 1000 Agent: 158\n",
      "Epoch: 1000 Agent: 159\n",
      "Epoch: 1000 Agent: 160\n",
      "Epoch: 1000 Agent: 161\n",
      "Epoch: 1000 Agent: 162\n",
      "Epoch: 1000 Agent: 163\n",
      "Epoch: 1000 Agent: 164\n",
      "Epoch: 1000 Agent: 165\n",
      "Epoch: 1000 Agent: 166\n",
      "Epoch: 1000 Agent: 167\n",
      "Epoch: 1000 Agent: 168\n",
      "Epoch: 1000 Agent: 169\n",
      "Epoch: 1000 Agent: 170\n",
      "Epoch: 1000 Agent: 171\n",
      "Epoch: 1000 Agent: 172\n",
      "Epoch: 1000 Agent: 173\n",
      "Epoch: 1000 Agent: 174\n",
      "Epoch: 1000 Agent: 175\n",
      "Epoch: 1000 Agent: 176\n",
      "Epoch: 1000 Agent: 177\n",
      "Epoch: 1000 Agent: 178\n",
      "Epoch: 1000 Agent: 179\n",
      "Epoch: 1000 Agent: 180\n",
      "Epoch: 1000 Agent: 181\n",
      "Epoch: 1000 Agent: 182\n",
      "Epoch: 1000 Agent: 183\n",
      "Epoch: 1000 Agent: 184\n",
      "Epoch: 1000 Agent: 185\n",
      "Epoch: 1000 Agent: 186\n",
      "Epoch: 1000 Agent: 187\n",
      "Epoch: 1000 Agent: 188\n",
      "Epoch: 1000 Agent: 189\n",
      "Epoch: 1000 Agent: 190\n",
      "Epoch: 1000 Agent: 191\n",
      "Epoch: 1000 Agent: 192\n",
      "Epoch: 1000 Agent: 193\n",
      "Epoch: 1000 Agent: 194\n",
      "Epoch: 1000 Agent: 195\n",
      "Epoch: 1000 Agent: 196\n",
      "Epoch: 1000 Agent: 197\n",
      "Epoch: 1000 Agent: 198\n",
      "Epoch: 1000 Agent: 199\n",
      "Epoch: 1000 Agent: 200\n"
     ]
    }
   ],
   "source": [
    "epoch_num = 1000\n",
    "agent_num = 200\n",
    "for epoch in range(999,epoch_num):\n",
    "    for agent in range(agent_num):\n",
    "        print(\"Epoch: {} Agent: {}\".format(epoch+1,agent+1))\n",
    "        image_path = \"./data/depth1116/depth{}_{}.npy\".format(epoch+1, agent+1)\n",
    "        rawImage = np.load(image_path).astype(np.float32)\n",
    "        clean_image = transform_scene_image(rawImage)\n",
    "        np.save(\"data/depth1116_new/depth{}_{}.npy\".format(epoch+1,agent+1), clean_image)\n",
    "\n"
   ]
  },
  {
   "cell_type": "code",
   "execution_count": 14,
   "metadata": {},
   "outputs": [
    {
     "name": "stdout",
     "output_type": "stream",
     "text": [
      "./data/depth1116_new/depth1_20.npy\n",
      "(96, 192)\n"
     ]
    },
    {
     "data": {
      "image/png": "[encoded data removed]",
      "text/plain": [
       "<Figure size 360x360 with 1 Axes>"
      ]
     },
     "metadata": {
      "needs_background": "light"
     },
     "output_type": "display_data"
    },
    {
     "ename": "",
     "evalue": "",
     "output_type": "error",
     "traceback": [
      "\u001b[1;31mThe Kernel crashed while executing code in the the current cell or a previous cell. Please review the code in the cell(s) to identify a possible cause of the failure. Click <a href='https://aka.ms/vscodeJupyterKernelCrash'>here</a> for more info. View Jupyter <a href='command:jupyter.viewOutput'>log</a> for further details."
     ]
    }
   ],
   "source": [
    "image_path = \"./data/depth1116_new/depth1_20.npy\"\n",
    "print(image_path)\n",
    "rawImage = np.load(image_path).astype(np.float32)\n",
    "print(rawImage.shape)\n",
    "plot_hist(rawImage)"
   ]
  },
  {
   "cell_type": "code",
   "execution_count": 2,
   "metadata": {},
   "outputs": [
    {
     "name": "stdout",
     "output_type": "stream",
     "text": [
      "[0.7201303  0.6269356  0.58353096 0.60496056 0.6874577  0.61023647\n",
      " 0.33432063 0.6433237  0.5827343  0.6932173 ]\n",
      "(10,)\n"
     ]
    }
   ],
   "source": [
    "mean = np.load(\"x_mean1d_1116_new.npy\")\n",
    "print(mean)\n",
    "print(mean.shape)"
   ]
  },
  {
   "cell_type": "code",
   "execution_count": 3,
   "metadata": {},
   "outputs": [
    {
     "name": "stdout",
     "output_type": "stream",
     "text": [
      "[0.26619032 0.2693178  0.28872332 0.25154737 0.30318132 0.30696806\n",
      " 0.11072476 0.1763327  0.25546178 0.270142  ]\n",
      "(10,)\n"
     ]
    }
   ],
   "source": [
    "std = np.load(\"x_std1d_1116_new.npy\")\n",
    "print(std)\n",
    "print(std.shape)"
   ]
  },
  {
   "cell_type": "code",
   "execution_count": null,
   "metadata": {},
   "outputs": [],
   "source": []
  }
 ],
 "metadata": {
  "kernelspec": {
   "display_name": "Python 3.8.8 64-bit ('nerf': pyenv)",
   "language": "python",
   "name": "python3"
  },
  "language_info": {
   "codemirror_mode": {
    "name": "ipython",
    "version": 3
   },
   "file_extension": ".py",
   "mimetype": "text/x-python",
   "name": "python",
   "nbconvert_exporter": "python",
   "pygments_lexer": "ipython3",
   "version": "3.8.8"
  },
  "orig_nbformat": 4,
  "vscode": {
   "interpreter": {
    "hash": "74464942be70da753c6a9d0aa20a75922bf11824b16ef526340312608c9991ae"
   }
  }
 },
 "nbformat": 4,
 "nbformat_minor": 2
}
