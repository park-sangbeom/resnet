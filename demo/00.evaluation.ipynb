{
 "cells": [
  {
   "cell_type": "code",
   "execution_count": 3,
   "metadata": {},
   "outputs": [],
   "source": [
    "import numpy as np \n",
    "\n",
    "a = np.array([-2.000e-05, -1.500e-04, -1.000e-04,  2.610e-03,  5.740e-03, -6.000e-05,\n",
    "4.230e-03, -1.700e-04,  1.634e-02,  1.390e-03,  1.111e-02, -4.100e-04,\n",
    "5.600e-03, -1.200e-04, -3.200e-04,  1.524e-02])\n",
    "\n",
    "b = np.array([-1.000e-05, -1.000e-04, -7.000e-05,  3.900e-04,  6.180e-03, -4.000e-05,\n",
    "3.660e-03, -1.400e-04,  1.709e-02, -1.000e-05,  1.125e-02, -4.400e-04,\n",
    "2.870e-03, -1.400e-04, -3.200e-04,  1.439e-02])"
   ]
  },
  {
   "cell_type": "code",
   "execution_count": 5,
   "metadata": {},
   "outputs": [
    {
     "data": {
      "text/plain": [
       "0.00635"
      ]
     },
     "execution_count": 5,
     "metadata": {},
     "output_type": "execute_result"
    }
   ],
   "source": [
    "np.abs(np.sum(a-b))"
   ]
  },
  {
   "cell_type": "code",
   "execution_count": 26,
   "metadata": {},
   "outputs": [
    {
     "data": {
      "text/plain": [
       "0.0004375"
      ]
     },
     "execution_count": 26,
     "metadata": {},
     "output_type": "execute_result"
    }
   ],
   "source": [
    "0.007/16"
   ]
  },
  {
   "cell_type": "code",
   "execution_count": null,
   "metadata": {},
   "outputs": [],
   "source": []
  }
 ],
 "metadata": {
  "kernelspec": {
   "display_name": "Python 3.8.8 64-bit ('nerf': pyenv)",
   "language": "python",
   "name": "python3"
  },
  "language_info": {
   "codemirror_mode": {
    "name": "ipython",
    "version": 3
   },
   "file_extension": ".py",
   "mimetype": "text/x-python",
   "name": "python",
   "nbconvert_exporter": "python",
   "pygments_lexer": "ipython3",
   "version": "3.8.8"
  },
  "orig_nbformat": 4,
  "vscode": {
   "interpreter": {
    "hash": "74464942be70da753c6a9d0aa20a75922bf11824b16ef526340312608c9991ae"
   }
  }
 },
 "nbformat": 4,
 "nbformat_minor": 2
}
