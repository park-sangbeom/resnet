{
 "cells": [
  {
   "cell_type": "code",
   "execution_count": 53,
   "metadata": {},
   "outputs": [],
   "source": [
    "\n",
    "from collections import OrderedDict\n",
    "import numpy as np\n",
    "import torch\n",
    "import torch.nn as nn\n",
    "import torch.optim as optim\n",
    "import torch.nn.functional as F\n",
    "from torch.utils.data import DataLoader\n",
    "torch.set_printoptions(linewidth=120)\n",
    "torch.set_grad_enabled(True)\n",
    "import torchvision\n",
    "from torchvision.transforms import transforms\n",
    "\n",
    "class Autoencoder(nn.Module):\n",
    "    \"\"\"\n",
    "    Autoencoder class, combines encoder and decoder model.\n",
    "    \"\"\"\n",
    "    \n",
    "    def __init__(self):\n",
    "        super(Autoencoder, self).__init__()\n",
    "        self.encoder = ConvNetEncoder()\n",
    "        self.decoder = ConvNetDecoder()\n",
    "    \n",
    "    @property\n",
    "    def num_params(self):\n",
    "        model_parameters = filter(lambda p: p.requires_grad, self.parameters())\n",
    "        num_p = sum([np.prod(p.size()) for p in model_parameters])\n",
    "        return num_p\n",
    "    \n",
    "    def forward(self, inputs):\n",
    "        encoded = self.encoder(inputs)\n",
    "        decoded = self.decoder(encoded)\n",
    "        return decoded ,encoded\n",
    "\n",
    "class ConvNetEncoder(nn.Module):\n",
    "    def __init__(self):\n",
    "        super(ConvNetEncoder, self).__init__()\n",
    "        \n",
    "        self.layer1 = nn.Sequential(\n",
    "            nn.Conv2d(1, 64, kernel_size=3, padding=1), #1 * 96 * 192 -> 16 * 96 * 192\n",
    "            nn.BatchNorm2d(64), #16 * 96 * 192\n",
    "            nn.LeakyReLU(),                 \n",
    "            nn.MaxPool2d(2),\n",
    "            nn.Dropout(0.25))       # 16 * 48 * 96\n",
    "        self.layer2  = nn.Sequential(\n",
    "            nn.Conv2d(64, 128, kernel_size=3, padding=1), # 16* 48 * 96 -> 32 * 48 * 96\n",
    "            nn.BatchNorm2d(128), #  32 * 48 * 96\n",
    "            nn.ReLU(), #  32 * 48 * 96\n",
    "            nn.MaxPool2d(2),\n",
    "            nn.Dropout(0.25))       # 32 * 24 * 48\n",
    "        self.layer3  = nn.Sequential(\n",
    "            nn.Conv2d(128, 256, kernel_size=3, padding=1), # 32 * 24 * 48 -> 64 * 24 * 48 \n",
    "            nn.BatchNorm2d(256), #  64 * 24 * 48 \n",
    "            nn.LeakyReLU(),                \n",
    "            nn.MaxPool2d(2),\n",
    "            nn.Dropout(0.25))       # 64 * 12 * 24\n",
    "        self.layer4  = nn.Sequential(\n",
    "            nn.Conv2d(256, 512, kernel_size=3, padding=1), # 64 * 12 * 24 -> 128 * 12 * 24\n",
    "            nn.BatchNorm2d(512), #  128 * 12 * 24 \n",
    "            nn.LeakyReLU(),                 \n",
    "            nn.MaxPool2d(2),\n",
    "            nn.Dropout(0.25))\n",
    "        self.linlayer = nn.Sequential(\n",
    "            nn.Linear(512*6*12, 1024),\n",
    "            nn.LeakyReLU(),                 \n",
    "            nn.Dropout(0.25),\n",
    "            nn.Linear(1024, 16),\n",
    "            nn.LeakyReLU(),                 \n",
    "            nn.Dropout(0.5)\n",
    "        )\n",
    "        self.flatten = nn.Flatten()\n",
    "        \n",
    "    def forward(self, x):\n",
    "        out = self.layer1(x)\n",
    "        out = self.layer2(out)\n",
    "        out = self.layer3(out)\n",
    "        out = self.layer4(out)\n",
    "        out = self.flatten(out)\n",
    "        out = self.linlayer(out)\n",
    "        return out\n",
    "\n",
    "class ConvNetDecoder(nn.Module):\n",
    "    def __init__(self):\n",
    "        super(ConvNetDecoder, self).__init__()    \n",
    "        self.layer1 = nn.Sequential(\n",
    "            nn.ConvTranspose2d(512, 256, kernel_size=3, stride=2, padding=0), \n",
    "            nn.BatchNorm2d(256),\n",
    "            nn.ReLU(),            \n",
    "            nn.Dropout(0.25))      \n",
    "        self.layer2  = nn.Sequential(\n",
    "            nn.ConvTranspose2d(256, 128, kernel_size=3, stride=2, padding=1), \n",
    "            nn.BatchNorm2d(128), \n",
    "            nn.ReLU(),\n",
    "            nn.Dropout(0.25))      \n",
    "        self.layer3  = nn.Sequential(\n",
    "            nn.ConvTranspose2d(128, 64, kernel_size=3, stride=2, padding=1),\n",
    "            nn.BatchNorm2d(64), \n",
    "            nn.ReLU(),\n",
    "            nn.Dropout(0.25))       \n",
    "        self.layer4  = nn.Sequential(\n",
    "            nn.ConvTranspose2d(64, 32, kernel_size=2, stride=2, padding=1),\n",
    "            nn.BatchNorm2d(32), \n",
    "            nn.ReLU(),\n",
    "            nn.Dropout(0.25))  \n",
    "        self.tanh = nn.Tanh() \n",
    "\n",
    "        self.linlayer = nn.Sequential(\n",
    "            nn.Linear(16, 1024),\n",
    "            nn.ReLU(),\n",
    "            nn.Dropout(0.5),\n",
    "            nn.Linear(1024, 512*6*12),\n",
    "            nn.ReLU(),\n",
    "            nn.Dropout(0.25)\n",
    "        )\n",
    "        \n",
    "    def forward(self, x):\n",
    "        out = self.linlayer(x)\n",
    "        out = out.view(-1, 512, 6, 12)\n",
    "        out = self.layer1(out)\n",
    "        out = self.layer2(out)\n",
    "        out = self.layer3(out)\n",
    "        out = self.layer4(out)\n",
    "        out = self.tanh(out)\n",
    "        return out"
   ]
  },
  {
   "cell_type": "code",
   "execution_count": 54,
   "metadata": {},
   "outputs": [],
   "source": [
    "x = torch.randn(1,1, 96,192)\n",
    "autoencoder = Autoencoder()\n",
    "decoder, encoder = autoencoder(x)\n"
   ]
  },
  {
   "cell_type": "code",
   "execution_count": 55,
   "metadata": {},
   "outputs": [
    {
     "name": "stdout",
     "output_type": "stream",
     "text": [
      "Encoder torch.Size([1, 16])\n",
      "Decoder torch.Size([1, 32, 96, 192])\n"
     ]
    }
   ],
   "source": [
    "print(\"Encoder\", encoder.shape)\n",
    "print(\"Decoder\", decoder.shape)"
   ]
  },
  {
   "cell_type": "code",
   "execution_count": 56,
   "metadata": {},
   "outputs": [
    {
     "data": {
      "text/plain": [
       "78678832"
      ]
     },
     "execution_count": 56,
     "metadata": {},
     "output_type": "execute_result"
    },
    {
     "ename": "",
     "evalue": "",
     "output_type": "error",
     "traceback": [
      "\u001b[1;31mThe Kernel crashed while executing code in the the current cell or a previous cell. Please review the code in the cell(s) to identify a possible cause of the failure. Click <a href='https://aka.ms/vscodeJupyterKernelCrash'>here</a> for more info. View Jupyter <a href='command:jupyter.viewOutput'>log</a> for further details."
     ]
    }
   ],
   "source": [
    "autoencoder.num_params"
   ]
  },
  {
   "cell_type": "code",
   "execution_count": null,
   "metadata": {},
   "outputs": [],
   "source": []
  },
  {
   "cell_type": "code",
   "execution_count": null,
   "metadata": {},
   "outputs": [],
   "source": []
  }
 ],
 "metadata": {
  "kernelspec": {
   "display_name": "Python 3.8.8 64-bit ('nerf': pyenv)",
   "language": "python",
   "name": "python3"
  },
  "language_info": {
   "codemirror_mode": {
    "name": "ipython",
    "version": 3
   },
   "file_extension": ".py",
   "mimetype": "text/x-python",
   "name": "python",
   "nbconvert_exporter": "python",
   "pygments_lexer": "ipython3",
   "version": "3.8.8"
  },
  "orig_nbformat": 4,
  "vscode": {
   "interpreter": {
    "hash": "74464942be70da753c6a9d0aa20a75922bf11824b16ef526340312608c9991ae"
   }
  }
 },
 "nbformat": 4,
 "nbformat_minor": 2
}
