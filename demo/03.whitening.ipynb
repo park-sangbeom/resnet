{
 "cells": [
  {
   "cell_type": "code",
   "execution_count": 1,
   "metadata": {},
   "outputs": [
    {
     "name": "stdout",
     "output_type": "stream",
     "text": [
      "Done.\n"
     ]
    }
   ],
   "source": [
    "import numpy as np\n",
    " \n",
    "print(\"Done.\")"
   ]
  },
  {
   "cell_type": "code",
   "execution_count": 12,
   "metadata": {},
   "outputs": [],
   "source": [
    "def whitening(x=np.random.rand(100,2)):\n",
    "    \"\"\"\n",
    "        Whitening\n",
    "    \"\"\"\n",
    "    if len(x.shape) == 1:\n",
    "        x_mean  = np.mean(x,axis=None)\n",
    "        x_std   = np.std(x,axis=None)\n",
    "    else:\n",
    "        x_mean  = np.mean(x,axis=0)\n",
    "        x_std   = np.std(x,axis=0)\n",
    "    return (x-x_mean)/x_std, x_mean, x_std"
   ]
  },
  {
   "cell_type": "code",
   "execution_count": 15,
   "metadata": {},
   "outputs": [
    {
     "name": "stdout",
     "output_type": "stream",
     "text": [
      "(16,)\n",
      "[0.64205626 0.49891887 0.64375025 0.41656589 0.42867603 0.47278758\n",
      " 0.55416099 0.53408819 0.39436478 0.49723035 0.59348344 0.6154313\n",
      " 0.42818138 0.38602521 0.6471127  0.65366944]\n"
     ]
    }
   ],
   "source": [
    "x = np.random.rand(5,16)\n",
    "a, x_mean, x_std = whitening(x)\n",
    "print(x_mean.shape)\n",
    "print(x_mean)"
   ]
  },
  {
   "cell_type": "code",
   "execution_count": null,
   "metadata": {},
   "outputs": [],
   "source": []
  },
  {
   "cell_type": "code",
   "execution_count": null,
   "metadata": {},
   "outputs": [],
   "source": []
  }
 ],
 "metadata": {
  "kernelspec": {
   "display_name": "Python 3.8.8 64-bit ('nerf': pyenv)",
   "language": "python",
   "name": "python3"
  },
  "language_info": {
   "codemirror_mode": {
    "name": "ipython",
    "version": 3
   },
   "file_extension": ".py",
   "mimetype": "text/x-python",
   "name": "python",
   "nbconvert_exporter": "python",
   "pygments_lexer": "ipython3",
   "version": "3.8.8"
  },
  "orig_nbformat": 4,
  "vscode": {
   "interpreter": {
    "hash": "74464942be70da753c6a9d0aa20a75922bf11824b16ef526340312608c9991ae"
   }
  }
 },
 "nbformat": 4,
 "nbformat_minor": 2
}
