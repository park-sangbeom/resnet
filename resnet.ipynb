{
 "cells": [
  {
   "cell_type": "code",
   "execution_count": 2,
   "metadata": {},
   "outputs": [
    {
     "name": "stderr",
     "output_type": "stream",
     "text": [
      "/home/sangbeom/.pyenv/versions/3.8.8/envs/nerf/lib/python3.8/site-packages/tqdm/auto.py:22: TqdmWarning: IProgress not found. Please update jupyter and ipywidgets. See https://ipywidgets.readthedocs.io/en/stable/user_install.html\n",
      "  from .autonotebook import tqdm as notebook_tqdm\n"
     ]
    },
    {
     "name": "stdout",
     "output_type": "stream",
     "text": [
      "Done.\n",
      "1.10.1+cu111\n",
      "0.11.2+cu111\n"
     ]
    }
   ],
   "source": [
    "# Imports\n",
    "from collections import OrderedDict\n",
    "\n",
    "import numpy as np\n",
    "\n",
    "import torch\n",
    "import torch.nn as nn\n",
    "import torch.optim as optim\n",
    "import torch.nn.functional as F\n",
    "from torch.utils.data import DataLoader\n",
    "torch.set_printoptions(linewidth=120)\n",
    "torch.set_grad_enabled(True)\n",
    "\n",
    "import torchvision\n",
    "from torchvision.transforms import transforms\n",
    "\n",
    "from utils import *\n",
    "from data_loader import DepthDatasetLoader\n",
    "\n",
    "print(torch.__version__)\n",
    "print(torchvision.__version__)"
   ]
  },
  {
   "cell_type": "code",
   "execution_count": 3,
   "metadata": {},
   "outputs": [],
   "source": [
    "root_path = root_path = \"/home/sangbeom/unity_dataset/depth/\"\n",
    "tf=transforms.Compose([\n",
    "    transforms.ToPILImage(),\n",
    "    transforms.ToTensor()\n",
    "])\n",
    "depth_dataset = DepthDatasetLoader(root_path=root_path, transform=tf)\n",
    "train_set, val_set = train_val_split(depth_dataset, 0.1)\n"
   ]
  },
  {
   "cell_type": "code",
   "execution_count": 4,
   "metadata": {},
   "outputs": [],
   "source": [
    "class ResBlock(nn.Module):\n",
    "    \"\"\"\n",
    "    A two-convolutional layer residual block.\n",
    "    \"\"\"\n",
    "    \n",
    "    def __init__(self, c_in, c_out, k, s=1, p=1, mode='encode'):\n",
    "        assert mode in ['encode', 'decode'], \"Mode must be either 'encode' or 'decode'.\"\n",
    "        super(ResBlock, self).__init__()\n",
    "        if mode == 'encode':\n",
    "            self.conv1 = nn.Conv2d(c_in, c_out, k, s, p)\n",
    "            self.conv2 = nn.Conv2d(c_out, c_out, 3, 1, 1)\n",
    "        elif mode == 'decode':\n",
    "            self.conv1 = nn.ConvTranspose2d(c_in, c_out, k, s, p)\n",
    "            self.conv2 = nn.ConvTranspose2d(c_out, c_out, 3, 1, 1)\n",
    "        self.relu = nn.ReLU()\n",
    "        self.BN = nn.BatchNorm2d(c_out)\n",
    "        self.resize = s > 1 or (s == 1 and p == 0) or c_out != c_in\n",
    "    \n",
    "    def forward(self, x):\n",
    "        conv1 = self.BN(self.conv1(x))\n",
    "        relu = self.relu(conv1)\n",
    "        conv2 = self.BN(self.conv2(relu))\n",
    "        if self.resize:\n",
    "            x = self.BN(self.conv1(x))\n",
    "        return self.relu(x + conv2)\n",
    "\n",
    "class Encoder(nn.Module):\n",
    "    \"\"\"\n",
    "    Encoder class, mainly consisting of three residual blocks.\n",
    "    \"\"\"\n",
    "    \n",
    "    def __init__(self):\n",
    "        super(Encoder, self).__init__()\n",
    "        self.init_conv = nn.Conv2d(1, 16, 3, 1, 1) # 16 32 32\n",
    "        self.BN = nn.BatchNorm2d(16)\n",
    "        self.rb1 = ResBlock(16, 16, 3, 2, 1, 'encode') # 16 16 16\n",
    "        self.rb2 = ResBlock(16, 32, 3, 1, 1, 'encode') # 32 16 16\n",
    "        self.rb3 = ResBlock(32, 32, 3, 2, 1, 'encode') # 32 8 8\n",
    "        self.rb4 = ResBlock(32, 48, 3, 1, 1, 'encode') # 48 8 8\n",
    "        self.rb5 = ResBlock(48, 48, 3, 2, 1, 'encode') # 48 4 4\n",
    "        self.rb6 = ResBlock(48, 64, 3, 2, 1, 'encode') # 64 2 2\n",
    "        self.relu = nn.ReLU()\n",
    "    \n",
    "    def forward(self, inputs):\n",
    "        init_conv = self.relu(self.BN(self.init_conv(inputs)))\n",
    "        rb1 = self.rb1(init_conv)\n",
    "        rb2 = self.rb2(rb1)\n",
    "        rb3 = self.rb3(rb2)\n",
    "        rb4 = self.rb4(rb3)\n",
    "        rb5 = self.rb5(rb4)\n",
    "        rb6 = self.rb6(rb5)\n",
    "        return rb6\n",
    "\n",
    "class Decoder(nn.Module):\n",
    "    \"\"\"\n",
    "    Decoder class, mainly consisting of two residual blocks.\n",
    "    \"\"\"\n",
    "    \n",
    "    def __init__(self):\n",
    "        super(Decoder, self).__init__()\n",
    "        self.rb1 = ResBlock(64, 48, 2, 2, 0, 'decode') # 48 4 4\n",
    "        self.rb2 = ResBlock(48, 48, 2, 2, 0, 'decode') # 48 8 8\n",
    "        self.rb3 = ResBlock(48, 32, 3, 1, 1, 'decode') # 32 8 8\n",
    "        self.rb4 = ResBlock(32, 32, 2, 2, 0, 'decode') # 32 16 16\n",
    "        self.rb5 = ResBlock(32, 16, 3, 1, 1, 'decode') # 16 16 16\n",
    "        self.rb6 = ResBlock(16, 16, 2, 2, 0, 'decode') # 16 32 32\n",
    "        self.out_conv = nn.ConvTranspose2d(16, 1, 3, 1, 1) # 3 32 32\n",
    "        self.tanh = nn.Tanh()\n",
    "        \n",
    "    def forward(self, inputs):\n",
    "        rb1 = self.rb1(inputs)\n",
    "        rb2 = self.rb2(rb1)\n",
    "        rb3 = self.rb3(rb2)\n",
    "        rb4 = self.rb4(rb3)\n",
    "        rb5 = self.rb5(rb4)\n",
    "        rb6 = self.rb6(rb5)\n",
    "        out_conv = self.out_conv(rb6)\n",
    "        output = self.tanh(out_conv)\n",
    "        return output\n",
    "\n",
    "class Autoencoder(nn.Module):\n",
    "    \"\"\"\n",
    "    Autoencoder class, combines encoder and decoder model.\n",
    "    \"\"\"\n",
    "    \n",
    "    def __init__(self):\n",
    "        super(Autoencoder, self).__init__()\n",
    "        self.encoder = Encoder()\n",
    "        self.decoder = Decoder()\n",
    "    \n",
    "    @property\n",
    "    def num_params(self):\n",
    "        model_parameters = filter(lambda p: p.requires_grad, self.parameters())\n",
    "        num_p = sum([np.prod(p.size()) for p in model_parameters])\n",
    "        return num_p\n",
    "    \n",
    "    def forward(self, inputs):\n",
    "        encoded = self.encoder(inputs)\n",
    "        print(encoded.shape)\n",
    "        decoded = self.decoder(encoded)\n",
    "        return decoded"
   ]
  },
  {
   "cell_type": "code",
   "execution_count": 5,
   "metadata": {},
   "outputs": [
    {
     "name": "stdout",
     "output_type": "stream",
     "text": [
      "Number of parameters in model: 289041\n"
     ]
    }
   ],
   "source": [
    "print(\"Number of parameters in model: {0}\".format(Autoencoder().num_params))"
   ]
  },
  {
   "cell_type": "code",
   "execution_count": 8,
   "metadata": {},
   "outputs": [
    {
     "name": "stdout",
     "output_type": "stream",
     "text": [
      "Device: cpu\n"
     ]
    }
   ],
   "source": [
    "param_names = ('init_lr', 'batch_size', 'weight_decay')\n",
    "parameters = OrderedDict(\n",
    "    run = [0.05, 32, 0.001],\n",
    ")\n",
    "device = \"cpu\"#torch.device('cuda:0' if torch.cuda.is_available() else 'cpu')\n",
    "print(\"Device: {}\".format(device))\n",
    "import matplotlib.pyplot as plt "
   ]
  },
  {
   "cell_type": "code",
   "execution_count": 9,
   "metadata": {},
   "outputs": [
    {
     "name": "stdout",
     "output_type": "stream",
     "text": [
      "Now training model with hyperparameters: init_lr=0.05, batch_size=32, weight_decay=0.001\n",
      "torch.Size([32, 64, 20, 32])\n",
      "torch.Size([32, 64, 20, 32])\n"
     ]
    },
    {
     "ename": "KeyboardInterrupt",
     "evalue": "",
     "output_type": "error",
     "traceback": [
      "\u001b[0;31m---------------------------------------------------------------------------\u001b[0m",
      "\u001b[0;31mKeyboardInterrupt\u001b[0m                         Traceback (most recent call last)",
      "\u001b[1;32m/home/sangbeom/autoencoder/resnet.ipynb Cell 6\u001b[0m in \u001b[0;36m<cell line: 4>\u001b[0;34m()\u001b[0m\n\u001b[1;32m     <a href='vscode-notebook-cell://ssh-remote%2B163.152.26.197/home/sangbeom/autoencoder/resnet.ipynb#W5sdnNjb2RlLXJlbW90ZQ%3D%3D?line=41'>42</a>\u001b[0m val_images  \u001b[39m=\u001b[39m \u001b[39mnext\u001b[39m(\u001b[39miter\u001b[39m(val_loader))\n\u001b[1;32m     <a href='vscode-notebook-cell://ssh-remote%2B163.152.26.197/home/sangbeom/autoencoder/resnet.ipynb#W5sdnNjb2RlLXJlbW90ZQ%3D%3D?line=42'>43</a>\u001b[0m val_images \u001b[39m=\u001b[39m torch\u001b[39m.\u001b[39mTensor(val_images[:,:,\u001b[39m8\u001b[39m:\u001b[39m328\u001b[39m,\u001b[39m6\u001b[39m:\u001b[39m-\u001b[39m\u001b[39m6\u001b[39m])\u001b[39m.\u001b[39mto(device)\n\u001b[0;32m---> <a href='vscode-notebook-cell://ssh-remote%2B163.152.26.197/home/sangbeom/autoencoder/resnet.ipynb#W5sdnNjb2RlLXJlbW90ZQ%3D%3D?line=43'>44</a>\u001b[0m val_preds \u001b[39m=\u001b[39m ae(val_images)\n\u001b[1;32m     <a href='vscode-notebook-cell://ssh-remote%2B163.152.26.197/home/sangbeom/autoencoder/resnet.ipynb#W5sdnNjb2RlLXJlbW90ZQ%3D%3D?line=44'>45</a>\u001b[0m val_loss \u001b[39m=\u001b[39m F\u001b[39m.\u001b[39mmse_loss(val_preds, val_images)\n\u001b[1;32m     <a href='vscode-notebook-cell://ssh-remote%2B163.152.26.197/home/sangbeom/autoencoder/resnet.ipynb#W5sdnNjb2RlLXJlbW90ZQ%3D%3D?line=45'>46</a>\u001b[0m m\u001b[39m.\u001b[39mtrack_loss(val_loss, val_images\u001b[39m.\u001b[39msize(\u001b[39m0\u001b[39m), mode\u001b[39m=\u001b[39m\u001b[39m'\u001b[39m\u001b[39mval\u001b[39m\u001b[39m'\u001b[39m)\n",
      "File \u001b[0;32m~/.pyenv/versions/3.8.8/envs/nerf/lib/python3.8/site-packages/torch/nn/modules/module.py:1102\u001b[0m, in \u001b[0;36mModule._call_impl\u001b[0;34m(self, *input, **kwargs)\u001b[0m\n\u001b[1;32m   1098\u001b[0m \u001b[39m# If we don't have any hooks, we want to skip the rest of the logic in\u001b[39;00m\n\u001b[1;32m   1099\u001b[0m \u001b[39m# this function, and just call forward.\u001b[39;00m\n\u001b[1;32m   1100\u001b[0m \u001b[39mif\u001b[39;00m \u001b[39mnot\u001b[39;00m (\u001b[39mself\u001b[39m\u001b[39m.\u001b[39m_backward_hooks \u001b[39mor\u001b[39;00m \u001b[39mself\u001b[39m\u001b[39m.\u001b[39m_forward_hooks \u001b[39mor\u001b[39;00m \u001b[39mself\u001b[39m\u001b[39m.\u001b[39m_forward_pre_hooks \u001b[39mor\u001b[39;00m _global_backward_hooks\n\u001b[1;32m   1101\u001b[0m         \u001b[39mor\u001b[39;00m _global_forward_hooks \u001b[39mor\u001b[39;00m _global_forward_pre_hooks):\n\u001b[0;32m-> 1102\u001b[0m     \u001b[39mreturn\u001b[39;00m forward_call(\u001b[39m*\u001b[39;49m\u001b[39minput\u001b[39;49m, \u001b[39m*\u001b[39;49m\u001b[39m*\u001b[39;49mkwargs)\n\u001b[1;32m   1103\u001b[0m \u001b[39m# Do not call functions when jit is used\u001b[39;00m\n\u001b[1;32m   1104\u001b[0m full_backward_hooks, non_full_backward_hooks \u001b[39m=\u001b[39m [], []\n",
      "\u001b[1;32m/home/sangbeom/autoencoder/resnet.ipynb Cell 6\u001b[0m in \u001b[0;36mAutoencoder.forward\u001b[0;34m(self, inputs)\u001b[0m\n\u001b[1;32m     <a href='vscode-notebook-cell://ssh-remote%2B163.152.26.197/home/sangbeom/autoencoder/resnet.ipynb#W5sdnNjb2RlLXJlbW90ZQ%3D%3D?line=97'>98</a>\u001b[0m encoded \u001b[39m=\u001b[39m \u001b[39mself\u001b[39m\u001b[39m.\u001b[39mencoder(inputs)\n\u001b[1;32m     <a href='vscode-notebook-cell://ssh-remote%2B163.152.26.197/home/sangbeom/autoencoder/resnet.ipynb#W5sdnNjb2RlLXJlbW90ZQ%3D%3D?line=98'>99</a>\u001b[0m \u001b[39mprint\u001b[39m(encoded\u001b[39m.\u001b[39mshape)\n\u001b[0;32m--> <a href='vscode-notebook-cell://ssh-remote%2B163.152.26.197/home/sangbeom/autoencoder/resnet.ipynb#W5sdnNjb2RlLXJlbW90ZQ%3D%3D?line=99'>100</a>\u001b[0m decoded \u001b[39m=\u001b[39m \u001b[39mself\u001b[39;49m\u001b[39m.\u001b[39;49mdecoder(encoded)\n\u001b[1;32m    <a href='vscode-notebook-cell://ssh-remote%2B163.152.26.197/home/sangbeom/autoencoder/resnet.ipynb#W5sdnNjb2RlLXJlbW90ZQ%3D%3D?line=100'>101</a>\u001b[0m \u001b[39mreturn\u001b[39;00m decoded\n",
      "File \u001b[0;32m~/.pyenv/versions/3.8.8/envs/nerf/lib/python3.8/site-packages/torch/nn/modules/module.py:1102\u001b[0m, in \u001b[0;36mModule._call_impl\u001b[0;34m(self, *input, **kwargs)\u001b[0m\n\u001b[1;32m   1098\u001b[0m \u001b[39m# If we don't have any hooks, we want to skip the rest of the logic in\u001b[39;00m\n\u001b[1;32m   1099\u001b[0m \u001b[39m# this function, and just call forward.\u001b[39;00m\n\u001b[1;32m   1100\u001b[0m \u001b[39mif\u001b[39;00m \u001b[39mnot\u001b[39;00m (\u001b[39mself\u001b[39m\u001b[39m.\u001b[39m_backward_hooks \u001b[39mor\u001b[39;00m \u001b[39mself\u001b[39m\u001b[39m.\u001b[39m_forward_hooks \u001b[39mor\u001b[39;00m \u001b[39mself\u001b[39m\u001b[39m.\u001b[39m_forward_pre_hooks \u001b[39mor\u001b[39;00m _global_backward_hooks\n\u001b[1;32m   1101\u001b[0m         \u001b[39mor\u001b[39;00m _global_forward_hooks \u001b[39mor\u001b[39;00m _global_forward_pre_hooks):\n\u001b[0;32m-> 1102\u001b[0m     \u001b[39mreturn\u001b[39;00m forward_call(\u001b[39m*\u001b[39;49m\u001b[39minput\u001b[39;49m, \u001b[39m*\u001b[39;49m\u001b[39m*\u001b[39;49mkwargs)\n\u001b[1;32m   1103\u001b[0m \u001b[39m# Do not call functions when jit is used\u001b[39;00m\n\u001b[1;32m   1104\u001b[0m full_backward_hooks, non_full_backward_hooks \u001b[39m=\u001b[39m [], []\n",
      "\u001b[1;32m/home/sangbeom/autoencoder/resnet.ipynb Cell 6\u001b[0m in \u001b[0;36mDecoder.forward\u001b[0;34m(self, inputs)\u001b[0m\n\u001b[1;32m     <a href='vscode-notebook-cell://ssh-remote%2B163.152.26.197/home/sangbeom/autoencoder/resnet.ipynb#W5sdnNjb2RlLXJlbW90ZQ%3D%3D?line=70'>71</a>\u001b[0m rb1 \u001b[39m=\u001b[39m \u001b[39mself\u001b[39m\u001b[39m.\u001b[39mrb1(inputs)\n\u001b[1;32m     <a href='vscode-notebook-cell://ssh-remote%2B163.152.26.197/home/sangbeom/autoencoder/resnet.ipynb#W5sdnNjb2RlLXJlbW90ZQ%3D%3D?line=71'>72</a>\u001b[0m rb2 \u001b[39m=\u001b[39m \u001b[39mself\u001b[39m\u001b[39m.\u001b[39mrb2(rb1)\n\u001b[0;32m---> <a href='vscode-notebook-cell://ssh-remote%2B163.152.26.197/home/sangbeom/autoencoder/resnet.ipynb#W5sdnNjb2RlLXJlbW90ZQ%3D%3D?line=72'>73</a>\u001b[0m rb3 \u001b[39m=\u001b[39m \u001b[39mself\u001b[39;49m\u001b[39m.\u001b[39;49mrb3(rb2)\n\u001b[1;32m     <a href='vscode-notebook-cell://ssh-remote%2B163.152.26.197/home/sangbeom/autoencoder/resnet.ipynb#W5sdnNjb2RlLXJlbW90ZQ%3D%3D?line=73'>74</a>\u001b[0m rb4 \u001b[39m=\u001b[39m \u001b[39mself\u001b[39m\u001b[39m.\u001b[39mrb4(rb3)\n\u001b[1;32m     <a href='vscode-notebook-cell://ssh-remote%2B163.152.26.197/home/sangbeom/autoencoder/resnet.ipynb#W5sdnNjb2RlLXJlbW90ZQ%3D%3D?line=74'>75</a>\u001b[0m rb5 \u001b[39m=\u001b[39m \u001b[39mself\u001b[39m\u001b[39m.\u001b[39mrb5(rb4)\n",
      "File \u001b[0;32m~/.pyenv/versions/3.8.8/envs/nerf/lib/python3.8/site-packages/torch/nn/modules/module.py:1102\u001b[0m, in \u001b[0;36mModule._call_impl\u001b[0;34m(self, *input, **kwargs)\u001b[0m\n\u001b[1;32m   1098\u001b[0m \u001b[39m# If we don't have any hooks, we want to skip the rest of the logic in\u001b[39;00m\n\u001b[1;32m   1099\u001b[0m \u001b[39m# this function, and just call forward.\u001b[39;00m\n\u001b[1;32m   1100\u001b[0m \u001b[39mif\u001b[39;00m \u001b[39mnot\u001b[39;00m (\u001b[39mself\u001b[39m\u001b[39m.\u001b[39m_backward_hooks \u001b[39mor\u001b[39;00m \u001b[39mself\u001b[39m\u001b[39m.\u001b[39m_forward_hooks \u001b[39mor\u001b[39;00m \u001b[39mself\u001b[39m\u001b[39m.\u001b[39m_forward_pre_hooks \u001b[39mor\u001b[39;00m _global_backward_hooks\n\u001b[1;32m   1101\u001b[0m         \u001b[39mor\u001b[39;00m _global_forward_hooks \u001b[39mor\u001b[39;00m _global_forward_pre_hooks):\n\u001b[0;32m-> 1102\u001b[0m     \u001b[39mreturn\u001b[39;00m forward_call(\u001b[39m*\u001b[39;49m\u001b[39minput\u001b[39;49m, \u001b[39m*\u001b[39;49m\u001b[39m*\u001b[39;49mkwargs)\n\u001b[1;32m   1103\u001b[0m \u001b[39m# Do not call functions when jit is used\u001b[39;00m\n\u001b[1;32m   1104\u001b[0m full_backward_hooks, non_full_backward_hooks \u001b[39m=\u001b[39m [], []\n",
      "\u001b[1;32m/home/sangbeom/autoencoder/resnet.ipynb Cell 6\u001b[0m in \u001b[0;36mResBlock.forward\u001b[0;34m(self, x)\u001b[0m\n\u001b[1;32m     <a href='vscode-notebook-cell://ssh-remote%2B163.152.26.197/home/sangbeom/autoencoder/resnet.ipynb#W5sdnNjb2RlLXJlbW90ZQ%3D%3D?line=21'>22</a>\u001b[0m conv2 \u001b[39m=\u001b[39m \u001b[39mself\u001b[39m\u001b[39m.\u001b[39mBN(\u001b[39mself\u001b[39m\u001b[39m.\u001b[39mconv2(relu))\n\u001b[1;32m     <a href='vscode-notebook-cell://ssh-remote%2B163.152.26.197/home/sangbeom/autoencoder/resnet.ipynb#W5sdnNjb2RlLXJlbW90ZQ%3D%3D?line=22'>23</a>\u001b[0m \u001b[39mif\u001b[39;00m \u001b[39mself\u001b[39m\u001b[39m.\u001b[39mresize:\n\u001b[0;32m---> <a href='vscode-notebook-cell://ssh-remote%2B163.152.26.197/home/sangbeom/autoencoder/resnet.ipynb#W5sdnNjb2RlLXJlbW90ZQ%3D%3D?line=23'>24</a>\u001b[0m     x \u001b[39m=\u001b[39m \u001b[39mself\u001b[39m\u001b[39m.\u001b[39mBN(\u001b[39mself\u001b[39;49m\u001b[39m.\u001b[39;49mconv1(x))\n\u001b[1;32m     <a href='vscode-notebook-cell://ssh-remote%2B163.152.26.197/home/sangbeom/autoencoder/resnet.ipynb#W5sdnNjb2RlLXJlbW90ZQ%3D%3D?line=24'>25</a>\u001b[0m \u001b[39mreturn\u001b[39;00m \u001b[39mself\u001b[39m\u001b[39m.\u001b[39mrelu(x \u001b[39m+\u001b[39m conv2)\n",
      "File \u001b[0;32m~/.pyenv/versions/3.8.8/envs/nerf/lib/python3.8/site-packages/torch/nn/modules/module.py:1102\u001b[0m, in \u001b[0;36mModule._call_impl\u001b[0;34m(self, *input, **kwargs)\u001b[0m\n\u001b[1;32m   1098\u001b[0m \u001b[39m# If we don't have any hooks, we want to skip the rest of the logic in\u001b[39;00m\n\u001b[1;32m   1099\u001b[0m \u001b[39m# this function, and just call forward.\u001b[39;00m\n\u001b[1;32m   1100\u001b[0m \u001b[39mif\u001b[39;00m \u001b[39mnot\u001b[39;00m (\u001b[39mself\u001b[39m\u001b[39m.\u001b[39m_backward_hooks \u001b[39mor\u001b[39;00m \u001b[39mself\u001b[39m\u001b[39m.\u001b[39m_forward_hooks \u001b[39mor\u001b[39;00m \u001b[39mself\u001b[39m\u001b[39m.\u001b[39m_forward_pre_hooks \u001b[39mor\u001b[39;00m _global_backward_hooks\n\u001b[1;32m   1101\u001b[0m         \u001b[39mor\u001b[39;00m _global_forward_hooks \u001b[39mor\u001b[39;00m _global_forward_pre_hooks):\n\u001b[0;32m-> 1102\u001b[0m     \u001b[39mreturn\u001b[39;00m forward_call(\u001b[39m*\u001b[39;49m\u001b[39minput\u001b[39;49m, \u001b[39m*\u001b[39;49m\u001b[39m*\u001b[39;49mkwargs)\n\u001b[1;32m   1103\u001b[0m \u001b[39m# Do not call functions when jit is used\u001b[39;00m\n\u001b[1;32m   1104\u001b[0m full_backward_hooks, non_full_backward_hooks \u001b[39m=\u001b[39m [], []\n",
      "File \u001b[0;32m~/.pyenv/versions/3.8.8/envs/nerf/lib/python3.8/site-packages/torch/nn/modules/conv.py:923\u001b[0m, in \u001b[0;36mConvTranspose2d.forward\u001b[0;34m(self, input, output_size)\u001b[0m\n\u001b[1;32m    918\u001b[0m \u001b[39m# One cannot replace List by Tuple or Sequence in \"_output_padding\" because\u001b[39;00m\n\u001b[1;32m    919\u001b[0m \u001b[39m# TorchScript does not support `Sequence[T]` or `Tuple[T, ...]`.\u001b[39;00m\n\u001b[1;32m    920\u001b[0m output_padding \u001b[39m=\u001b[39m \u001b[39mself\u001b[39m\u001b[39m.\u001b[39m_output_padding(\n\u001b[1;32m    921\u001b[0m     \u001b[39minput\u001b[39m, output_size, \u001b[39mself\u001b[39m\u001b[39m.\u001b[39mstride, \u001b[39mself\u001b[39m\u001b[39m.\u001b[39mpadding, \u001b[39mself\u001b[39m\u001b[39m.\u001b[39mkernel_size, \u001b[39mself\u001b[39m\u001b[39m.\u001b[39mdilation)  \u001b[39m# type: ignore[arg-type]\u001b[39;00m\n\u001b[0;32m--> 923\u001b[0m \u001b[39mreturn\u001b[39;00m F\u001b[39m.\u001b[39;49mconv_transpose2d(\n\u001b[1;32m    924\u001b[0m     \u001b[39minput\u001b[39;49m, \u001b[39mself\u001b[39;49m\u001b[39m.\u001b[39;49mweight, \u001b[39mself\u001b[39;49m\u001b[39m.\u001b[39;49mbias, \u001b[39mself\u001b[39;49m\u001b[39m.\u001b[39;49mstride, \u001b[39mself\u001b[39;49m\u001b[39m.\u001b[39;49mpadding,\n\u001b[1;32m    925\u001b[0m     output_padding, \u001b[39mself\u001b[39;49m\u001b[39m.\u001b[39;49mgroups, \u001b[39mself\u001b[39;49m\u001b[39m.\u001b[39;49mdilation)\n",
      "\u001b[0;31mKeyboardInterrupt\u001b[0m: "
     ]
    }
   ],
   "source": [
    "m = RunManager()\n",
    "num_epochs = 150\n",
    "\n",
    "for hparams in RunBuilder.get_runs_from_params(param_names, parameters):\n",
    "\n",
    "    # Instantiate a network model\n",
    "    ae = Autoencoder().to(device)\n",
    "\n",
    "    # Construct a DataLoader object with training data\n",
    "    train_loader = DataLoader(train_set, batch_size=hparams.batch_size, shuffle=True)\n",
    "    val_loader = DataLoader(val_set, batch_size=hparams.batch_size, shuffle=True)\n",
    "    test_loader = DataLoader(val_set, batch_size=10, shuffle=False)\n",
    "    test_images = next(iter(test_loader))\n",
    "    test_images = next(iter(val_loader))\n",
    "\n",
    "    # Define optimizer\n",
    "    optimizer = optim.SGD(ae.parameters(), lr=hparams.init_lr, momentum=0.9, weight_decay=hparams.weight_decay)\n",
    "    scheduler = optim.lr_scheduler.StepLR(optimizer, 60, 0.1)\n",
    "    \n",
    "    # Setup run instance\n",
    "    # m.begin_run(hparams, ae, torch.Tensor(test_images).to(device))\n",
    "    print('Now training model with hyperparameters: init_lr={0}, batch_size={1}, weight_decay={2}'\n",
    "         .format(hparams.init_lr, hparams.batch_size, hparams.weight_decay))\n",
    "    \n",
    "    # Start training loop\n",
    "    for epoch in range(num_epochs):\n",
    "        # m.begin_epoch()\n",
    "        \n",
    "        # Train the model\n",
    "        for i, batch in enumerate(train_loader):\n",
    "            images = batch[:,:,8:328,6:-6]\n",
    "            images = torch.Tensor(images).to(device)\n",
    "            # Zero all gradients\n",
    "            optimizer.zero_grad()\n",
    "            \n",
    "            # Calculating the loss\n",
    "            preds = ae(images)\n",
    "            loss = F.mse_loss(preds, images)\n",
    "            \n",
    "            if i % 10 == 0:\n",
    "                with torch.no_grad():\n",
    "                    val_images  = next(iter(val_loader))\n",
    "                    val_images = torch.Tensor(val_images[:,:,8:328,6:-6]).to(device)\n",
    "                    val_preds = ae(val_images)\n",
    "                    val_loss = F.mse_loss(val_preds, val_images)\n",
    "                    m.track_loss(val_loss, val_images.size(0), mode='val')\n",
    "                print('Epoch {0}, iteration {1}: train loss {2}, val loss {3}'.format(epoch+1,\n",
    "                                                                               i*hparams.batch_size,\n",
    "                                                                               round(loss.item(), 6),\n",
    "                                                                               round(val_loss.item(), 6)))\n",
    "                fig, axs = plt.subplots(2,5, figsize=(15,4))\n",
    "                val_images = val_images.detach().cpu().numpy()\n",
    "                val_preds = val_preds.detach().cpu().numpy()\n",
    "                for i in range(5):\n",
    "                    axs[0][i].matshow(np.reshape(val_images[i, :], (320,512)), cmap=plt.get_cmap('gray'))\n",
    "                    axs[1][i].matshow(np.reshape(val_preds[i, :], (320,512)), cmap=plt.get_cmap('gray'))\n",
    "                plt.show()\n",
    "            # Backpropagate\n",
    "            loss.backward()\n",
    "\n",
    "            # Update the weights\n",
    "            optimizer.step()\n",
    "            \n",
    "            # m.track_loss(loss, images.size(0), mode='train')\n",
    "            \n",
    "        # m.end_epoch()\n",
    "    \n",
    "    #torch.save(ae, './models/150epochs_' + str(hparams) + '.pth')\n",
    "    # m.end_run()\n",
    "    print(\"Model has finished training.\\n\")\n",
    "    scheduler.step()\n",
    "    \n",
    "m.save('results_final')\n",
    "print(\"Training completed.\")"
   ]
  },
  {
   "cell_type": "code",
   "execution_count": null,
   "metadata": {},
   "outputs": [],
   "source": []
  }
 ],
 "metadata": {
  "kernelspec": {
   "display_name": "Python 3.8.8 64-bit ('nerf': pyenv)",
   "language": "python",
   "name": "python3"
  },
  "language_info": {
   "codemirror_mode": {
    "name": "ipython",
    "version": 3
   },
   "file_extension": ".py",
   "mimetype": "text/x-python",
   "name": "python",
   "nbconvert_exporter": "python",
   "pygments_lexer": "ipython3",
   "version": "3.8.8"
  },
  "orig_nbformat": 4,
  "vscode": {
   "interpreter": {
    "hash": "74464942be70da753c6a9d0aa20a75922bf11824b16ef526340312608c9991ae"
   }
  }
 },
 "nbformat": 4,
 "nbformat_minor": 2
}
