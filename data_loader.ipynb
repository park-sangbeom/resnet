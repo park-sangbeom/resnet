{
 "cells": [
  {
   "cell_type": "code",
   "execution_count": 13,
   "metadata": {},
   "outputs": [
    {
     "name": "stdout",
     "output_type": "stream",
     "text": [
      "Done.\n",
      "/home/sangbeom/resnet\n"
     ]
    }
   ],
   "source": [
    "import os\n",
    "import numpy as np \n",
    "import json\n",
    "from torchvision.io import read_image\n",
    "from torch.utils.data import Dataset\n",
    "from torch.utils.data import DataLoader\n",
    "import matplotlib.pyplot as plt \n",
    "import sys\n",
    "sys.path.append('..')\n",
    "print(\"Done.\")\n",
    "import os \n",
    "print(os.getcwd())"
   ]
  },
  {
   "cell_type": "code",
   "execution_count": 14,
   "metadata": {},
   "outputs": [],
   "source": [
    "class DepthDatasetLoader(Dataset):\n",
    "    def __init__(self, root_path=\"/home/sangbeom/resnet/data/depth1014/\", \n",
    "                       json_name=\"depth1014.json\",\n",
    "                       transform=None):\n",
    "        self.root_path = root_path \n",
    "        self.json_name = json_name \n",
    "        self.json_content=[]\n",
    "        for line in open(self.json_name,'r'):\n",
    "            self.json_content.append(json.loads(line))\n",
    "        self.image_lst = self.json_content\n",
    "        self.transform = transform \n",
    "\n",
    "    def __len__(self):\n",
    "        return len( self.image_lst)\n",
    "        \n",
    "    def __getitem__(self, idx):\n",
    "        image_path = self.image_lst[idx]\n",
    "        dir = self.root_path+image_path[\"file_path\"]\n",
    "        #image = read_image(dir)\n",
    "        image = np.load(dir)\n",
    "        if self.transform: \n",
    "            image = self.transform(image)\n",
    "        return image\n",
    "   "
   ]
  },
  {
   "cell_type": "code",
   "execution_count": 15,
   "metadata": {},
   "outputs": [],
   "source": [
    "root_path = \"/home/sangbeom/resnet/data/depth1014/\"\n",
    "depth_dataset = DepthDatasetLoader(root_path=root_path)"
   ]
  },
  {
   "cell_type": "code",
   "execution_count": 16,
   "metadata": {},
   "outputs": [],
   "source": [
    "loader = DataLoader(depth_dataset, batch_size=4, shuffle=True)\n"
   ]
  },
  {
   "cell_type": "code",
   "execution_count": 17,
   "metadata": {},
   "outputs": [
    {
     "name": "stdout",
     "output_type": "stream",
     "text": [
      "Image batch shape torch.Size([4, 96, 192])\n"
     ]
    }
   ],
   "source": [
    "data = next(iter(loader))\n",
    "print(\"Image batch shape\", data.shape)"
   ]
  },
  {
   "cell_type": "code",
   "execution_count": 21,
   "metadata": {},
   "outputs": [
    {
     "data": {
      "text/plain": [
       "<matplotlib.image.AxesImage at 0x7f9fd0213460>"
      ]
     },
     "execution_count": 21,
     "metadata": {},
     "output_type": "execute_result"
    },
    {
     "data": {
      "image/png": "[encoded data removed]",
      "text/plain": [
       "<Figure size 432x288 with 1 Axes>"
      ]
     },
     "metadata": {
      "needs_background": "light"
     },
     "output_type": "display_data"
    }
   ],
   "source": [
    "plt.imshow(data[3])"
   ]
  },
  {
   "cell_type": "code",
   "execution_count": null,
   "metadata": {},
   "outputs": [],
   "source": []
  }
 ],
 "metadata": {
  "kernelspec": {
   "display_name": "Python 3.8.8 64-bit ('nerf': pyenv)",
   "language": "python",
   "name": "python3"
  },
  "language_info": {
   "codemirror_mode": {
    "name": "ipython",
    "version": 3
   },
   "file_extension": ".py",
   "mimetype": "text/x-python",
   "name": "python",
   "nbconvert_exporter": "python",
   "pygments_lexer": "ipython3",
   "version": "3.8.8"
  },
  "orig_nbformat": 4,
  "vscode": {
   "interpreter": {
    "hash": "74464942be70da753c6a9d0aa20a75922bf11824b16ef526340312608c9991ae"
   }
  }
 },
 "nbformat": 4,
 "nbformat_minor": 2
}
